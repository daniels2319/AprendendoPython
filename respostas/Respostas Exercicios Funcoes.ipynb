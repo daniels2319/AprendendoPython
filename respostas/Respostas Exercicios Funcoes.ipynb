{
 "cells": [
  {
   "cell_type": "code",
   "execution_count": 3,
   "metadata": {},
   "outputs": [
    {
     "name": "stdout",
     "output_type": "stream",
     "text": [
      "15\n"
     ]
    }
   ],
   "source": [
    "'Exercicio 1'\n",
    "def SomaArgumentos(a,b,c):\n",
    "    soma = a+b+c\n",
    "    return soma\n",
    "print(SomaArgumentos(3,5,7))"
   ]
  },
  {
   "cell_type": "code",
   "execution_count": 18,
   "metadata": {},
   "outputs": [
    {
     "name": "stdout",
     "output_type": "stream",
     "text": [
      "True\n"
     ]
    }
   ],
   "source": [
    "'Exercicio 2'\n",
    "def NumeroNatural(n):\n",
    "    if n >= 0:\n",
    "        natural=True\n",
    "    else:\n",
    "        natural=False\n",
    "    return natural\n",
    "print(NumeroNatural(0))"
   ]
  },
  {
   "cell_type": "code",
   "execution_count": 32,
   "metadata": {},
   "outputs": [
    {
     "name": "stdout",
     "output_type": "stream",
     "text": [
      "R$ 243.08\n"
     ]
    }
   ],
   "source": [
    "'Exercicio 3'\n",
    "def ImpostoERoubo(Custo,Taxa):\n",
    "    PrecoVenda=Custo/(1-Taxa)\n",
    "    return PrecoVenda\n",
    "print('R$',round(float(ImpostoERoubo(158,0.35)),2))"
   ]
  },
  {
   "cell_type": "code",
   "execution_count": null,
   "metadata": {},
   "outputs": [],
   "source": []
  }
 ],
 "metadata": {
  "kernelspec": {
   "display_name": "Python 3",
   "language": "python",
   "name": "python3"
  },
  "language_info": {
   "codemirror_mode": {
    "name": "ipython",
    "version": 3
   },
   "file_extension": ".py",
   "mimetype": "text/x-python",
   "name": "python",
   "nbconvert_exporter": "python",
   "pygments_lexer": "ipython3",
   "version": "3.7.3"
  }
 },
 "nbformat": 4,
 "nbformat_minor": 2
}
