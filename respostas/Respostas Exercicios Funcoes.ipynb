{
 "cells": [
  {
   "cell_type": "code",
   "execution_count": 3,
   "metadata": {},
   "outputs": [
    {
     "name": "stdout",
     "output_type": "stream",
     "text": [
      "15\n"
     ]
    }
   ],
   "source": [
    "'Exercicio 1'\n",
    "def SomaArgumentos(a,b,c):\n",
    "    soma = a+b+c\n",
    "    return soma\n",
    "print(SomaArgumentos(3,5,7))"
   ]
  },
  {
   "cell_type": "code",
   "execution_count": 18,
   "metadata": {},
   "outputs": [
    {
     "name": "stdout",
     "output_type": "stream",
     "text": [
      "True\n"
     ]
    }
   ],
   "source": [
    "'Exercicio 2'\n",
    "def NumeroNatural(n):\n",
    "    if n >= 0:\n",
    "        natural=True\n",
    "    else:\n",
    "        natural=False\n",
    "    return natural\n",
    "print(NumeroNatural(0))"
   ]
  },
  {
   "cell_type": "code",
   "execution_count": 32,
   "metadata": {},
   "outputs": [
    {
     "name": "stdout",
     "output_type": "stream",
     "text": [
      "R$ 243.08\n"
     ]
    }
   ],
   "source": [
    "'Exercicio 3'\n",
    "def ImpostoERoubo(Custo,Taxa):\n",
    "    PrecoVenda=Custo/(1-Taxa)\n",
    "    return PrecoVenda\n",
    "print('R$',round(float(ImpostoERoubo(158,0.35)),2))"
   ]
  },
  {
   "cell_type": "code",
   "execution_count": 6,
   "metadata": {},
   "outputs": [
    {
     "name": "stdout",
     "output_type": "stream",
     "text": [
      "digite o primeiro argumento: 1\n",
      "digite o segundo argumento: 4\n",
      "digite o terceiro argumento: 7\n",
      "12\n"
     ]
    }
   ],
   "source": [
    "'Exercício 1, só que com input agora'\n",
    "arg1 = input('digite o primeiro argumento: ')\n",
    "arg2 = input('digite o segundo argumento: ')\n",
    "arg3 = input('digite o terceiro argumento: ')\n",
    "def SomaArgumentos(a,b,c):\n",
    "    soma = int(arg1)+int(arg2)+int(arg3)\n",
    "    return soma\n",
    "print(SomaArgumentos(arg1,arg2,arg3))"
   ]
  },
  {
   "cell_type": "code",
   "execution_count": null,
   "metadata": {},
   "outputs": [],
   "source": [
    "'Exercicio 2, só que com input agora'\n",
    "def NumeroNatural(n):\n",
    "    input('Argumento 1: ')\n",
    "    input('Argumento 2: ')\n",
    "    if n >= 0:\n",
    "        natural=True\n",
    "    else:\n",
    "        natural=False\n",
    "    return natural\n",
    "print(NumeroNatural(0))"
   ]
  },
  {
   "cell_type": "code",
   "execution_count": null,
   "metadata": {},
   "outputs": [],
   "source": []
  }
 ],
 "metadata": {
  "kernelspec": {
   "display_name": "Python 3",
   "language": "python",
   "name": "python3"
  },
  "language_info": {
   "codemirror_mode": {
    "name": "ipython",
    "version": 3
   },
   "file_extension": ".py",
   "mimetype": "text/x-python",
   "name": "python",
   "nbconvert_exporter": "python",
   "pygments_lexer": "ipython3",
   "version": "3.7.3"
  }
 },
 "nbformat": 4,
 "nbformat_minor": 2
}
