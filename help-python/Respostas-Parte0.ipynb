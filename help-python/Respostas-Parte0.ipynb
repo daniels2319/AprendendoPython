{
 "cells": [
  {
   "cell_type": "code",
   "execution_count": 10,
   "metadata": {},
   "outputs": [
    {
     "name": "stdout",
     "output_type": "stream",
     "text": [
      "6\n"
     ]
    }
   ],
   "source": [
    "def somaTresNumeros(x, y, z):\n",
    "    return x + y + z\n",
    "print(somaTresNumeros(1, 2, 3))"
   ]
  },
  {
   "cell_type": "code",
   "execution_count": 12,
   "metadata": {},
   "outputs": [
    {
     "name": "stdout",
     "output_type": "stream",
     "text": [
      "True\n",
      "False\n"
     ]
    }
   ],
   "source": [
    "def isPositive(x):\n",
    "    if(x >= 0):\n",
    "        return True\n",
    "    return False\n",
    "print(isPositive(21))\n",
    "print(isPositive(-23))"
   ]
  },
  {
   "cell_type": "code",
   "execution_count": 24,
   "metadata": {},
   "outputs": [
    {
     "name": "stdout",
     "output_type": "stream",
     "text": [
      "140.7\n"
     ]
    }
   ],
   "source": [
    "def calcTax(value, taxFee):\n",
    "    return value + value*taxFee*0.01\n",
    "print(calcTax(134, 5))"
   ]
  },
  {
   "cell_type": "code",
   "execution_count": 21,
   "metadata": {},
   "outputs": [
    {
     "name": "stdout",
     "output_type": "stream",
     "text": [
      "São 8 horas e 45 minutos AM\n",
      "São 9 horas e 30 minutos PM\n"
     ]
    }
   ],
   "source": [
    "def whatTime(hours, minutes):\n",
    "    if(hours > 24 or minutes > 60):\n",
    "        return False\n",
    "    if(hours <= 12):\n",
    "        str = 'São {} horas e {} minutos AM'.format(hours, minutes)\n",
    "        return(str)\n",
    "    else:\n",
    "        new_hour = int(hours%12)\n",
    "        str = 'São {} horas e {} minutos PM'.format(new_hour, minutes)\n",
    "        return(str)\n",
    "print(whatTime(8, 45))\n",
    "print(whatTime(21, 30))"
   ]
  },
  {
   "cell_type": "code",
   "execution_count": 28,
   "metadata": {},
   "outputs": [
    {
     "name": "stdout",
     "output_type": "stream",
     "text": [
      "6\n"
     ]
    }
   ],
   "source": [
    "def qtdDigitos(x):\n",
    "    num_in_string = str(x)\n",
    "    return(len(num_in_string))\n",
    "\n",
    "print(qtdDigitos(214525))"
   ]
  },
  {
   "cell_type": "code",
   "execution_count": 29,
   "metadata": {},
   "outputs": [
    {
     "name": "stdout",
     "output_type": "stream",
     "text": [
      "127\n"
     ]
    }
   ],
   "source": [
    "def reversoNumero(x):\n",
    "    reverse = int(str(x)[::-1])\n",
    "    return reverse\n",
    "print(reversoNumero(721))"
   ]
  },
  {
   "cell_type": "code",
   "execution_count": 36,
   "metadata": {},
   "outputs": [
    {
     "name": "stdout",
     "output_type": "stream",
     "text": [
      "Dia 24 do mês agosto do ano 1944\n"
     ]
    }
   ],
   "source": [
    "def number_to_month(month):\n",
    "    switcher = {\n",
    "        1: \"janeiro\",\n",
    "        2: \"fevereiro\",\n",
    "        3: \"março\",\n",
    "        4: \"abril\",\n",
    "        5: \"maio\",\n",
    "        6: \"junho\",\n",
    "        7: \"julho\",\n",
    "        8: \"agosto\",\n",
    "        9: \"setembro\",\n",
    "        10: \"outubro\",\n",
    "        11: \"novembro\",\n",
    "        12: \"dezembro\",\n",
    "    }\n",
    "    return switcher.get(month)\n",
    "\n",
    "def showDate(year, month, day):\n",
    "    if(year < 0 or (month < 0 and month > 12) or (day < 0 and day > 31)):\n",
    "        return NULL\n",
    "    str_month = number_to_month(month)\n",
    "    str_date = 'Dia {} do mês {} do ano {}'.format(day, str_month, year)\n",
    "    return str_date\n",
    "print(showDate(1944, 8, 24))"
   ]
  },
  {
   "cell_type": "markdown",
   "metadata": {},
   "source": [
    "\n",
    "---"
   ]
  },
  {
   "cell_type": "code",
   "execution_count": 7,
   "metadata": {},
   "outputs": [],
   "source": [
    "nums = [6, 4, 5 , 2, 3, 1, 9, 7, 8, 10]"
   ]
  },
  {
   "cell_type": "code",
   "execution_count": 8,
   "metadata": {},
   "outputs": [
    {
     "name": "stdout",
     "output_type": "stream",
     "text": [
      "10\n"
     ]
    }
   ],
   "source": [
    "max = nums[0]\n",
    "for i in range(0, len(nums)):\n",
    "    if(nums[i] > max):\n",
    "        max = nums[i]\n",
    "print(max)"
   ]
  },
  {
   "cell_type": "code",
   "execution_count": 10,
   "metadata": {},
   "outputs": [
    {
     "name": "stdout",
     "output_type": "stream",
     "text": [
      "1\n"
     ]
    }
   ],
   "source": [
    "min = nums[0]\n",
    "for i in range(0, len(nums)):\n",
    "    if(nums[i] < min):\n",
    "        min = nums[i]\n",
    "print(min)"
   ]
  },
  {
   "cell_type": "code",
   "execution_count": 15,
   "metadata": {},
   "outputs": [
    {
     "name": "stdout",
     "output_type": "stream",
     "text": [
      "5.5\n"
     ]
    }
   ],
   "source": [
    "soma = 0\n",
    "for i in range(0, len(nums)):\n",
    "    soma += nums[i]\n",
    "mean = soma / len(nums)\n",
    "print(mean)"
   ]
  },
  {
   "cell_type": "code",
   "execution_count": 16,
   "metadata": {},
   "outputs": [
    {
     "name": "stdout",
     "output_type": "stream",
     "text": [
      "[6, 4, 2, 8, 10]\n",
      "[5, 3, 1, 9, 7]\n"
     ]
    }
   ],
   "source": [
    "par = []\n",
    "impar = []\n",
    "\n",
    "for i in range(0, len(nums)):\n",
    "    if(nums[i] % 2 == 0):\n",
    "        par.append(nums[i])\n",
    "    else:\n",
    "        impar.append(nums[i])\n",
    "\n",
    "print(par[:])\n",
    "print(impar[:])"
   ]
  },
  {
   "cell_type": "code",
   "execution_count": null,
   "metadata": {},
   "outputs": [],
   "source": []
  }
 ],
 "metadata": {
  "kernelspec": {
   "display_name": "Python 3",
   "language": "python",
   "name": "python3"
  },
  "language_info": {
   "codemirror_mode": {
    "name": "ipython",
    "version": 3
   },
   "file_extension": ".py",
   "mimetype": "text/x-python",
   "name": "python",
   "nbconvert_exporter": "python",
   "pygments_lexer": "ipython3",
   "version": "3.6.7"
  }
 },
 "nbformat": 4,
 "nbformat_minor": 2
}
