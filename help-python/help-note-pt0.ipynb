{
 "cells": [
  {
   "cell_type": "markdown",
   "metadata": {},
   "source": [
    "# Notepad para ajudar o Daniel a aprender Python - Parte 0\n",
    "\n",
    "Nesse notepad veremos:\n",
    "\n",
    "1. o que é o git\n",
    "2. como instalar o git no windows\n",
    "3. como usar o GitHub\n",
    "4. preparar o ambiente com python e pip\n",
    "5. instalar o jupyter notebook\n",
    "6. basico sobre funções\n",
    "7. listas\n",
    "8. exercicios"
   ]
  },
  {
   "cell_type": "markdown",
   "metadata": {},
   "source": [
    "## O que é git?\n",
    "\n",
    "Git é um sistema de versionamento de arquivos. Foi criado por Linus Tovald antes da criação do Kernel do Linux.\n",
    "Linus viu a necessidade de controlar as versões de seus arquivos que eram distribuídos entre várias pessoas.\n",
    "\n",
    "Para realizar esse versionamento o Git utiliza uma forma de snapshots(fotos) dos arquivos e assim calcula a diferença entre uma versão antiga e uma versão nova.\n",
    "\n",
    "Geralmente as funções do git são locais, ou seja, não é necessário a conectividade com a Internet para utilizá-lo.\n",
    "\n",
    "Para mais informações, clique [aqui](https://git-scm.com/book/pt-br/v1/Primeiros-passos-No%C3%A7%C3%B5es-B%C3%A1sicas-de-Git)"
   ]
  },
  {
   "cell_type": "markdown",
   "metadata": {},
   "source": [
    "## Como instalar o git no Windows\n",
    "\n",
    "Git é uma ferramenta nativa do Linux, por isso, está presente nativamente nas distribuições GNU/Linux e MacOS.\n",
    "\n",
    "Para o Windows, necessitamos de um instalador externo:\n",
    "\n",
    "Acesse o site oficial e [baixe a versão do Windows](https://git-scm.com/downloads)\n",
    "\n",
    "Para ver o processo de instalação, veja [esse video](https://www.youtube.com/watch?v=SmbAn2_5uGs)\n",
    "\n",
    "Caso queira ver uma playlist para treinar suas habilidades com git, clique [aqui](https://www.youtube.com/watch?v=BCQHnlnPusY)"
   ]
  },
  {
   "cell_type": "markdown",
   "metadata": {},
   "source": [
    "## Comandos básicos de git\n",
    "\n",
    "1. git init\n",
    "\n",
    "```git\n",
    "git init\n",
    "```\n",
    "init é um comando para inicializar o git em alguma pasta do seu sistema operacional. Esse comando é essencial para qualquer versionamento usando git, é o primeiro comando que deve ser rodado.\n",
    "\n",
    "2. git remote\n",
    "\n",
    "```git\n",
    "git remote\n",
    "```\n",
    "\n",
    "remote é um comando para acessarmos uma pasta remota ao nosso computador, como no github, por exemplo. Apesar do git ser local, ele pode ser usado com plataformas web, como o Github ou Gitlab\n",
    "\n",
    "3. git add\n",
    "\n",
    "```git\n",
    "git add\n",
    "```\n",
    "\n",
    "add é um comando para adicionar as mudanas nos arquivos ao buffer de versionamento do git. O add é necessário ao efetuar uma mudanças\n",
    "\n",
    "4. git commit\n",
    "\n",
    "```git\n",
    "git commit\n",
    "```\n",
    "\n",
    "commit é o comando para efetuar as mudanças no código, ele vai salvar o snapshot dos arquivos. É **obrigatório** o uso de mensagens ao commitar um código. Você **deve** identificar sobre o quê se trata a alteração.\n",
    "\n",
    "5. git push\n",
    "\n",
    "```\n",
    "git push\n",
    "```\n",
    "\n",
    "Um dos comandos que acessa um repositório remoto e faz o upload dos arquivos para a plataforma web."
   ]
  },
  {
   "cell_type": "markdown",
   "metadata": {},
   "source": [
    "## Preparando o ambiente com Python, pip e Jupyter\n",
    "\n",
    "Caso ainda não tenha a versão do Python, baixe [aqui](https://www.python.org/downloads/windows/)\n",
    "\n",
    "Insale o Python inclusive no Path. Para verificar se isso foi feito, abra o CMD e digite:\n",
    "\n",
    "```\n",
    "python3\n",
    "```\n",
    "\n",
    "Isso deve abrir o shell do Python, e você deve ser capaz de começar a programar. Para sair do shell, digite:\n",
    "\n",
    "```\n",
    "exit()\n",
    "```\n",
    "\n",
    "Para verificar a versão do seu Python:\n",
    "\n",
    "```\n",
    "python3 -v\n",
    "```\n",
    "\n",
    "Agora, veja se o pip está instalado com o seu Python. Pip é um sistema de packaging para o Python.\n",
    "\n",
    "```\n",
    "pip3 -V\n",
    "```\n",
    "\n",
    "Agora vamos instalar tudo que precisaremos, mesmo que não usaremos hoje, já vamos deixar tudo instalado:\n",
    "\n",
    "Abra o CMD como Administrador\n",
    "\n",
    "```\n",
    "pip3 install pandas\n",
    "pip3 install matplotlib\n",
    "pip3 install jupyter-notebook\n",
    "```\n",
    "\n",
    "Pandas é uma ferramenta para tratar dados em tabelas.\n",
    "Matplotlib é para plotar gráficos\n",
    "Jupyter Notebook é o nosso ambiente de desenvolvimento."
   ]
  },
  {
   "cell_type": "markdown",
   "metadata": {},
   "source": [
    "## Funções em Python\n",
    "\n",
    "As funções em Python são formas de refatorar o código, ou seja, concentrar partes do seu código de uma forma que possa ser reutilizada.\n",
    "\n",
    "O objetivo de uma função deve ser evitar reescrever códigos.\n",
    "\n",
    "São sempre declaradas com def, seguida de um nome e os parâmetros:\n",
    "\n",
    "```\n",
    "def nomeDaFuncao(parametro1, parametro2):\n",
    "    pass\n",
    "```\n",
    "\n",
    "Como você já deve ter percebido, uma das partes mais importantes do Python é a identação, isso é, inserir o código em blocos separados com espaços, geralmente usamos o TAB.\n",
    "\n",
    "Veja que no exemplo acima, a linha *pass* está com um deslocamento de espaço em relação a declaração da função. Isso acontece com muitas outras estruturas em Python\n",
    "\n",
    "Um exemplo de função em Python:\n",
    "\n",
    "```python\n",
    "def somaDoisNumeros(x, y):\n",
    "    soma = x + y\n",
    "    return soma\n",
    "```\n",
    "\n",
    "Nessa função, temos dois parâmatros sendo necessários: x e y, sendo eles guardados numa variável soma e é retornado essa variável soma. Veja abaixo como criar essa função e realizar um chamado:"
   ]
  },
  {
   "cell_type": "code",
   "execution_count": 1,
   "metadata": {},
   "outputs": [],
   "source": [
    "def somaDoisNumeros(x, y):\n",
    "    soma = x + y\n",
    "    return soma"
   ]
  },
  {
   "cell_type": "code",
   "execution_count": 2,
   "metadata": {},
   "outputs": [
    {
     "name": "stdout",
     "output_type": "stream",
     "text": [
      "9\n"
     ]
    }
   ],
   "source": [
    "print(somaDoisNumeros(4, 5))"
   ]
  },
  {
   "cell_type": "code",
   "execution_count": 3,
   "metadata": {},
   "outputs": [
    {
     "name": "stdout",
     "output_type": "stream",
     "text": [
      "9\n"
     ]
    }
   ],
   "source": [
    "# ou podemos fazer de outro jeito:\n",
    "x = 4\n",
    "y = 5\n",
    "print(somaDoisNumeros(x, y))"
   ]
  },
  {
   "cell_type": "code",
   "execution_count": 4,
   "metadata": {},
   "outputs": [
    {
     "name": "stdout",
     "output_type": "stream",
     "text": [
      "9\n"
     ]
    }
   ],
   "source": [
    "# ou ate mesmo nem usar x e y\n",
    "a = 4\n",
    "b = 5\n",
    "print(somaDoisNumeros(a, b))"
   ]
  },
  {
   "cell_type": "markdown",
   "metadata": {},
   "source": [
    "As variáveis x e y declaradas na função servem **somente** dentro da função, sendo inadequadas fora dela. Ou seja, eu posso passar quaisquer parâmetros para a função"
   ]
  },
  {
   "cell_type": "markdown",
   "metadata": {},
   "source": [
    "## Exercícios de Funções\n",
    "\n",
    "1. Faça uma função que necessite de três argumentos e retorne a soma desses argumentos\n",
    "2. Faça uma função que necessite de um argumento e retorne True caso o numero seja positivo e False caso contrário.\n",
    "3. Faça uma função que necessite de dois argumentos, um valor de um produto e uma taxa de imposto. Retorne o valor mínimo de um produto com esse imposto\n",
    "4. Faça uma função que receba um horário(horas e minutos) no formato de 24h e retorne o horário em AM/PM\n",
    "5. Faça uma função que informe a quantidade de dígitos de um número\n",
    "6. Faça uma função que retorne o reverso de um número\n",
    "7. Faça uma função que receba um dia, um mês e um ano e retorne no formato: \"Dia ... do mês de ...(extenso) do ano ... .E se possível, retornar Null caso a data seja inválida\n",
    "\n",
    "As respostas estão no outro notebook"
   ]
  },
  {
   "cell_type": "markdown",
   "metadata": {},
   "source": [
    "## Listas"
   ]
  },
  {
   "cell_type": "code",
   "execution_count": 2,
   "metadata": {},
   "outputs": [
    {
     "data": {
      "text/plain": [
       "['cachorro', 'gato', 'peixe', 'macaco']"
      ]
     },
     "execution_count": 2,
     "metadata": {},
     "output_type": "execute_result"
    }
   ],
   "source": [
    "# como criar uma lista\n",
    "animais = ['cachorro', 'gato', 'peixe', 'macaco']\n",
    "animais"
   ]
  },
  {
   "cell_type": "code",
   "execution_count": 4,
   "metadata": {},
   "outputs": [
    {
     "name": "stdout",
     "output_type": "stream",
     "text": [
      "cachorro\n",
      "gato\n",
      "peixe\n",
      "macaco\n"
     ]
    }
   ],
   "source": [
    "# como printar elementos específicos na lista\n",
    "print(animais[0])\n",
    "print(animais[1])\n",
    "print(animais[2])\n",
    "print(animais[3])"
   ]
  },
  {
   "cell_type": "code",
   "execution_count": 6,
   "metadata": {},
   "outputs": [
    {
     "name": "stdout",
     "output_type": "stream",
     "text": [
      "cachorro\n",
      "gato\n",
      "peixe\n",
      "macaco\n"
     ]
    }
   ],
   "source": [
    "# como printar os elementos da lista em um loop\n",
    "for i in range(0,4):\n",
    "    print(animais[i])\n",
    "# o loop deve ir até o tamanho da lista"
   ]
  },
  {
   "cell_type": "code",
   "execution_count": 7,
   "metadata": {},
   "outputs": [
    {
     "data": {
      "text/plain": [
       "4"
      ]
     },
     "execution_count": 7,
     "metadata": {},
     "output_type": "execute_result"
    }
   ],
   "source": [
    "# como obter o tamanho da lista\n",
    "len(animais)"
   ]
  },
  {
   "cell_type": "code",
   "execution_count": 8,
   "metadata": {},
   "outputs": [
    {
     "name": "stdout",
     "output_type": "stream",
     "text": [
      "cachorro\n",
      "gato\n",
      "peixe\n",
      "macaco\n"
     ]
    }
   ],
   "source": [
    "# loop com tamanho da lista\n",
    "for i in range(0, len(animais)):\n",
    "    print(animais[i])"
   ]
  },
  {
   "cell_type": "code",
   "execution_count": 9,
   "metadata": {},
   "outputs": [
    {
     "name": "stdout",
     "output_type": "stream",
     "text": [
      "cachorro\n",
      "gato\n",
      "boi\n",
      "macaco\n"
     ]
    }
   ],
   "source": [
    "# como trocar algum elemento específico da lista\n",
    "animais[2] = 'boi'\n",
    "for i in range(0, len(animais)):\n",
    "    print(animais[i])"
   ]
  },
  {
   "cell_type": "code",
   "execution_count": 11,
   "metadata": {},
   "outputs": [
    {
     "name": "stdout",
     "output_type": "stream",
     "text": [
      "cachorro\n",
      "gato\n",
      "boi\n",
      "macaco\n"
     ]
    }
   ],
   "source": [
    "# o jeito mais facil de fazer o loop por uma lista\n",
    "for animal in animais:\n",
    "    print(animal)"
   ]
  },
  {
   "cell_type": "code",
   "execution_count": 14,
   "metadata": {},
   "outputs": [
    {
     "name": "stdout",
     "output_type": "stream",
     "text": [
      "0 cachorro\n",
      "1 gato\n",
      "2 boi\n",
      "3 macaco\n"
     ]
    }
   ],
   "source": [
    "# função enumarate, serve para pegar o item e o indice\n",
    "for index, animal in enumerate(animais):\n",
    "    print(index, animal)"
   ]
  },
  {
   "cell_type": "code",
   "execution_count": 16,
   "metadata": {},
   "outputs": [
    {
     "name": "stdout",
     "output_type": "stream",
     "text": [
      "macaco\n",
      "['cachorro', 'gato', 'boi', 'macaco']\n",
      "['macaco', 'boi', 'gato', 'cachorro']\n"
     ]
    }
   ],
   "source": [
    "# printar elementos da lista\n",
    "\n",
    "# o ultimo elemento\n",
    "print(animais[-1])\n",
    "\n",
    "# toda a lista\n",
    "print(animais[:])\n",
    "\n",
    "# o inverso da lista\n",
    "print(animais[::-1])"
   ]
  },
  {
   "cell_type": "code",
   "execution_count": 20,
   "metadata": {},
   "outputs": [
    {
     "name": "stdout",
     "output_type": "stream",
     "text": [
      "['cachorro', 'gato', 'boi', 'macaco', 'peixe']\n",
      "['cachorro', 'gato', 'baleia', 'boi', 'macaco', 'peixe']\n"
     ]
    }
   ],
   "source": [
    "# inserir elemento no fim da lista\n",
    "\n",
    "animais.append('peixe')\n",
    "print(animais[:])\n",
    "\n",
    "# inserir elemento em um lugar específico da lista\n",
    "\n",
    "animais.insert(2, 'baleia')\n",
    "print(animais[:])"
   ]
  },
  {
   "cell_type": "code",
   "execution_count": 18,
   "metadata": {},
   "outputs": [
    {
     "data": {
      "text/plain": [
       "['cachorro', 'gato', 'boi', 'macaco']"
      ]
     },
     "execution_count": 18,
     "metadata": {},
     "output_type": "execute_result"
    }
   ],
   "source": [
    "# como remover um elemento\n",
    "\n",
    "animais.remove('peixe')\n",
    "animais[:]"
   ]
  },
  {
   "cell_type": "code",
   "execution_count": 22,
   "metadata": {},
   "outputs": [
    {
     "name": "stdout",
     "output_type": "stream",
     "text": [
      "3\n"
     ]
    }
   ],
   "source": [
    "# como obter o indice de um elemento na lista\n",
    "\n",
    "print(animais.index('macaco'))"
   ]
  },
  {
   "cell_type": "code",
   "execution_count": 23,
   "metadata": {},
   "outputs": [
    {
     "data": {
      "text/plain": [
       "['cachorro', 'gato', 'baleia', 'peixe']"
      ]
     },
     "execution_count": 23,
     "metadata": {},
     "output_type": "execute_result"
    }
   ],
   "source": [
    "# remover um elemento através do indice\n",
    "\n",
    "animais.pop(3)\n",
    "animais[:]"
   ]
  },
  {
   "cell_type": "code",
   "execution_count": 24,
   "metadata": {},
   "outputs": [
    {
     "data": {
      "text/plain": [
       "['baleia', 'cachorro', 'gato', 'peixe']"
      ]
     },
     "execution_count": 24,
     "metadata": {},
     "output_type": "execute_result"
    }
   ],
   "source": [
    "# ordenar elementos numa lista\n",
    "\n",
    "animais.sort()\n",
    "animais[:]"
   ]
  },
  {
   "cell_type": "code",
   "execution_count": 26,
   "metadata": {},
   "outputs": [
    {
     "data": {
      "text/plain": [
       "[1, 545, 2, 565, 2, 34, 17]"
      ]
     },
     "execution_count": 26,
     "metadata": {},
     "output_type": "execute_result"
    }
   ],
   "source": [
    "nums = [1, 545, 2, 565, 2, 34, 17]\n",
    "nums[:]"
   ]
  },
  {
   "cell_type": "code",
   "execution_count": 31,
   "metadata": {},
   "outputs": [
    {
     "data": {
      "text/plain": [
       "[1, 2, 2, 17, 34, 545, 565]"
      ]
     },
     "execution_count": 31,
     "metadata": {},
     "output_type": "execute_result"
    }
   ],
   "source": [
    "nums.sort()\n",
    "nums[:]"
   ]
  },
  {
   "cell_type": "code",
   "execution_count": 36,
   "metadata": {},
   "outputs": [
    {
     "name": "stdout",
     "output_type": "stream",
     "text": [
      "565\n",
      "1\n"
     ]
    }
   ],
   "source": [
    "# como tirar o valor maximo de uma função\n",
    "print(max(nums))\n",
    "\n",
    "# valor minimo\n",
    "print(min(nums))"
   ]
  },
  {
   "cell_type": "markdown",
   "metadata": {},
   "source": [
    "## Exercícios\n",
    "\n",
    "1. crie um vetor(lista) com 10 numeros e tire o maior valor. Não vale usar a função max\n",
    "2. crie um vetor(lista) com 10 numeros e tire o menor valor. Nao vale usar a função min\n",
    "3. crie um vetor com 10 numeros e tire a media dos valores. Não vale usar funções prontas\n",
    "4. crie um programa que leia um vetor de 10 numeros e armazene os valores pares num vetor PAR e os impares num vetor IMPAR\n",
    "5. faça um progrma que peça a altura e peso de 5 pessoas e calcule o IMC de cada uma delas. Salve o valor do IMC em um vetor\n",
    "6. concatene dois vetores\n",
    " #### desafios:\n",
    "7. mostre o segundo maior valor\n",
    "8. mostre o terceiro maior valor\n",
    "9. mostre o n-ésimo maior valor\n",
    "## **DESAFIO SUPREMO**: crie um vetor de 5 numeros. ordene o vetor. nao vale usar a função sort()"
   ]
  },
  {
   "cell_type": "markdown",
   "metadata": {},
   "source": [
    "Como praticar mais:\n",
    "\n",
    "Acesse o site do [URI Online Judge](https://urionlinejudege.com.br)\n",
    "\n",
    "Crie uma conta.\n",
    "\n",
    "Entre na área de Problems -> Begginer.\n",
    "\n",
    "Faça a partir do problema 1001 até 1060."
   ]
  }
 ],
 "metadata": {
  "kernelspec": {
   "display_name": "Python 3",
   "language": "python",
   "name": "python3"
  },
  "language_info": {
   "codemirror_mode": {
    "name": "ipython",
    "version": 3
   },
   "file_extension": ".py",
   "mimetype": "text/x-python",
   "name": "python",
   "nbconvert_exporter": "python",
   "pygments_lexer": "ipython3",
   "version": "3.7.3"
  }
 },
 "nbformat": 4,
 "nbformat_minor": 2
}
